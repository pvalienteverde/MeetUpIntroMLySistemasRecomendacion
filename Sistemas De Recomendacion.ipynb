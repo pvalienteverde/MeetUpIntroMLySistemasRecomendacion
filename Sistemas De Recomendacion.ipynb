{
 "cells": [
  {
   "cell_type": "code",
   "execution_count": 1,
   "metadata": {
    "collapsed": false,
    "slideshow": {
     "slide_type": "skip"
    }
   },
   "outputs": [
    {
     "data": {
      "text/html": [
       "<style>.container { width:100% !important; }</style>"
      ],
      "text/plain": [
       "<IPython.core.display.HTML object>"
      ]
     },
     "execution_count": 1,
     "metadata": {},
     "output_type": "execute_result"
    }
   ],
   "source": [
    "from IPython.core.display import HTML\n",
    "HTML(\"<style>.container { width:100% !important; }</style>\")"
   ]
  },
  {
   "cell_type": "code",
   "execution_count": 2,
   "metadata": {
    "collapsed": false,
    "slideshow": {
     "slide_type": "skip"
    }
   },
   "outputs": [],
   "source": [
    "%matplotlib inline\n",
    "import matplotlib.pyplot as plt\n",
    "import seaborn as sns\n",
    "import warnings\n",
    "warnings.simplefilter(action = \"ignore\", category = FutureWarning)\n",
    "RUTA_BD='BD'\n",
    "\n",
    "%load_ext autoreload\n",
    "%autoreload 2\n",
    "\n",
    "import sys\n",
    "sys.path.append('./scripts/SistemasRecomendacion') "
   ]
  },
  {
   "cell_type": "markdown",
   "metadata": {},
   "source": [
    "# Sistemas de recomendacion\n",
    "\n",
    "## Tabla de contenidos\n",
    "1. <a href=\"#seccion1\">Sistemas de recomendacion</a>\n",
    "2. <a href=\"#seccion2\">Content Based</a>\n",
    "3. <a href=\"#seccion3\">CollaborativeFiltering</a>\n",
    "\n"
   ]
  },
  {
   "cell_type": "markdown",
   "metadata": {
    "slideshow": {
     "slide_type": "slide"
    }
   },
   "source": [
    "<a id=\"seccion1\"></a>\n",
    "## Sistemas de recomendacion\n",
    "\n",
    "Los sistemas de recomendación están extendidos en todo sitios y nos dicen donde comer, que ver, escuchar y incluso que amigos tener\n",
    "<img src=\"imagenes/sisrec_amazon.png\">"
   ]
  },
  {
   "cell_type": "markdown",
   "metadata": {
    "slideshow": {
     "slide_type": "subslide"
    }
   },
   "source": [
    "Los tipos mas extendidos son:\n",
    "- **Content-Based**: Las recomendaciones son dadas por medio de los atributos del producto buscando productos similares\n",
    "- **Collaborative Filtering**: Recomendaciones basadas en el comportamiento de otros individuos\n",
    "\n",
    "<img src='imagenes/tipos_sistemas.png'>"
   ]
  },
  {
   "cell_type": "markdown",
   "metadata": {
    "slideshow": {
     "slide_type": "slide"
    }
   },
   "source": [
    "<a id=\"seccion2\"></a>\n",
    "### Basado en el Contenido (ContendBased)\n",
    "\n",
    "Por medio de la descripción del producto. Relaciones de tags\n",
    "\n",
    "1. Vectorizacion del contenido, es decir, generar los tags\n",
    "2. Ponderar los tags\n",
    "3. Generar el motor de buscada de los productos similares\n",
    "\n",
    "<img src='imagenes/contect_based.png'>"
   ]
  },
  {
   "cell_type": "markdown",
   "metadata": {
    "slideshow": {
     "slide_type": "slide"
    }
   },
   "source": [
    "### Ejemplo1: Recomendacion de articulos basados en su contenido\n",
    "Vamos a realizar una demostracion de sistema de recomendacion basado en contenido para recomendar articulos"
   ]
  },
  {
   "cell_type": "code",
   "execution_count": 3,
   "metadata": {
    "collapsed": true,
    "slideshow": {
     "slide_type": "fragment"
    }
   },
   "outputs": [],
   "source": [
    "import pandas as pd\n",
    "import numpy as np\n",
    "from sklearn.feature_extraction.text import CountVectorizer\n",
    "from sklearn.feature_extraction.text import TfidfTransformer\n",
    "from sklearn.feature_extraction.text import TfidfVectorizer\n",
    "from sklearn.metrics.pairwise import cosine_similarity\n",
    "from sklearn.neighbors import NearestNeighbors\n",
    "\n",
    "import ContendBased as CB\n",
    "\n",
    "NOMBRE_COLUMNAS = ['UsuarioID','PeliculaID','Valoracion']"
   ]
  },
  {
   "cell_type": "code",
   "execution_count": 4,
   "metadata": {
    "collapsed": false,
    "slideshow": {
     "slide_type": "fragment"
    }
   },
   "outputs": [
    {
     "data": {
      "text/html": [
       "<div style=\"max-height:1000px;max-width:1500px;overflow:auto;\">\n",
       "<table border=\"1\" class=\"dataframe\">\n",
       "  <thead>\n",
       "    <tr style=\"text-align: right;\">\n",
       "      <th></th>\n",
       "      <th>URI</th>\n",
       "      <th>name</th>\n",
       "      <th>text</th>\n",
       "    </tr>\n",
       "  </thead>\n",
       "  <tbody>\n",
       "    <tr>\n",
       "      <th>0</th>\n",
       "      <td>      &lt;http://dbpedia.org/resource/Gigi_Rigamonti&gt;</td>\n",
       "      <td>            Gigi Rigamonti</td>\n",
       "      <td> gigi rigamonti born 8 april 1949 is an italian...</td>\n",
       "    </tr>\n",
       "    <tr>\n",
       "      <th>1</th>\n",
       "      <td> &lt;http://dbpedia.org/resource/Steve_Anderson_(m...</td>\n",
       "      <td> Steve Anderson (musician)</td>\n",
       "      <td> steve anderson was briefly a member of the ban...</td>\n",
       "    </tr>\n",
       "    <tr>\n",
       "      <th>2</th>\n",
       "      <td> &lt;http://dbpedia.org/resource/Tenzin_Delek_Rinp...</td>\n",
       "      <td>     Tenzin Delek Rinpoche</td>\n",
       "      <td> lithang tulku tenzin delek rinpoche or tenzing...</td>\n",
       "    </tr>\n",
       "  </tbody>\n",
       "</table>\n",
       "</div>"
      ],
      "text/plain": [
       "                                                 URI  \\\n",
       "0       <http://dbpedia.org/resource/Gigi_Rigamonti>   \n",
       "1  <http://dbpedia.org/resource/Steve_Anderson_(m...   \n",
       "2  <http://dbpedia.org/resource/Tenzin_Delek_Rinp...   \n",
       "\n",
       "                        name  \\\n",
       "0             Gigi Rigamonti   \n",
       "1  Steve Anderson (musician)   \n",
       "2      Tenzin Delek Rinpoche   \n",
       "\n",
       "                                                text  \n",
       "0  gigi rigamonti born 8 april 1949 is an italian...  \n",
       "1  steve anderson was briefly a member of the ban...  \n",
       "2  lithang tulku tenzin delek rinpoche or tenzing...  "
      ]
     },
     "execution_count": 4,
     "metadata": {},
     "output_type": "execute_result"
    }
   ],
   "source": [
    "datos = pd.read_csv(RUTA_BD+\"/people_wiki.csv\")\n",
    "datos.head(3)"
   ]
  },
  {
   "cell_type": "code",
   "execution_count": 5,
   "metadata": {
    "collapsed": false,
    "slideshow": {
     "slide_type": "fragment"
    }
   },
   "outputs": [
    {
     "data": {
      "text/html": [
       "<div style=\"max-height:1000px;max-width:1500px;overflow:auto;\">\n",
       "<table border=\"1\" class=\"dataframe\">\n",
       "  <thead>\n",
       "    <tr style=\"text-align: right;\">\n",
       "      <th></th>\n",
       "      <th>URI</th>\n",
       "      <th>name</th>\n",
       "      <th>text</th>\n",
       "    </tr>\n",
       "  </thead>\n",
       "  <tbody>\n",
       "    <tr>\n",
       "      <th>10</th>\n",
       "      <td> &lt;http://dbpedia.org/resource/Elton_John&gt;</td>\n",
       "      <td> Elton John</td>\n",
       "      <td> sir elton hercules john cbe born reginald kenn...</td>\n",
       "    </tr>\n",
       "  </tbody>\n",
       "</table>\n",
       "</div>"
      ],
      "text/plain": [
       "                                         URI        name  \\\n",
       "10  <http://dbpedia.org/resource/Elton_John>  Elton John   \n",
       "\n",
       "                                                 text  \n",
       "10  sir elton hercules john cbe born reginald kenn...  "
      ]
     },
     "execution_count": 5,
     "metadata": {},
     "output_type": "execute_result"
    }
   ],
   "source": [
    "entrada_elton_john=datos.query('name == \"Elton John\"')\n",
    "entrada_elton_john"
   ]
  },
  {
   "cell_type": "markdown",
   "metadata": {
    "slideshow": {
     "slide_type": "subslide"
    }
   },
   "source": [
    "#### Explorar los tags y su peso\n",
    "1. Primero vamos a vertorizar (extración de los tags) la descripción del producto --> ```CountVectorizer()```\n",
    "2. Calcular la importancia de cada tag en la descripcion del producto --> ```TfidfTransformer()```\n"
   ]
  },
  {
   "cell_type": "markdown",
   "metadata": {
    "slideshow": {
     "slide_type": "subslide"
    }
   },
   "source": [
    "##### Vectorizacion\n",
    "Calculamos los tags"
   ]
  },
  {
   "cell_type": "code",
   "execution_count": 6,
   "metadata": {
    "collapsed": true,
    "slideshow": {
     "slide_type": "fragment"
    }
   },
   "outputs": [],
   "source": [
    "vectorizacion = CountVectorizer()\n",
    "bag_of_words= vectorizacion.fit_transform(datos.text)"
   ]
  },
  {
   "cell_type": "code",
   "execution_count": 7,
   "metadata": {
    "collapsed": false,
    "slideshow": {
     "slide_type": "fragment"
    }
   },
   "outputs": [
    {
     "data": {
      "text/html": [
       "<div style=\"max-height:1000px;max-width:1500px;overflow:auto;\">\n",
       "<table border=\"1\" class=\"dataframe\">\n",
       "  <thead>\n",
       "    <tr style=\"text-align: right;\">\n",
       "      <th></th>\n",
       "      <th>peso</th>\n",
       "    </tr>\n",
       "    <tr>\n",
       "      <th>tag_peso</th>\n",
       "      <th></th>\n",
       "    </tr>\n",
       "  </thead>\n",
       "  <tbody>\n",
       "    <tr>\n",
       "      <th>the</th>\n",
       "      <td> 27</td>\n",
       "    </tr>\n",
       "    <tr>\n",
       "      <th>in</th>\n",
       "      <td> 18</td>\n",
       "    </tr>\n",
       "    <tr>\n",
       "      <th>and</th>\n",
       "      <td> 15</td>\n",
       "    </tr>\n",
       "    <tr>\n",
       "      <th>of</th>\n",
       "      <td> 13</td>\n",
       "    </tr>\n",
       "    <tr>\n",
       "      <th>has</th>\n",
       "      <td>  9</td>\n",
       "    </tr>\n",
       "    <tr>\n",
       "      <th>he</th>\n",
       "      <td>  7</td>\n",
       "    </tr>\n",
       "    <tr>\n",
       "      <th>john</th>\n",
       "      <td>  7</td>\n",
       "    </tr>\n",
       "    <tr>\n",
       "      <th>on</th>\n",
       "      <td>  6</td>\n",
       "    </tr>\n",
       "  </tbody>\n",
       "</table>\n",
       "</div>"
      ],
      "text/plain": [
       "          peso\n",
       "tag_peso      \n",
       "the         27\n",
       "in          18\n",
       "and         15\n",
       "of          13\n",
       "has          9\n",
       "he           7\n",
       "john         7\n",
       "on           6"
      ]
     },
     "execution_count": 7,
     "metadata": {},
     "output_type": "execute_result"
    }
   ],
   "source": [
    "bag_words_elton_john = vectorizacion.transform(entrada_elton_john.text)\n",
    "CB.mostrar_pesos_tags(bag_words_elton_john,vectorizacion)"
   ]
  },
  {
   "cell_type": "markdown",
   "metadata": {
    "slideshow": {
     "slide_type": "subslide"
    }
   },
   "source": [
    "##### Normalizacion\n",
    "Pesos los tags"
   ]
  },
  {
   "cell_type": "code",
   "execution_count": 8,
   "metadata": {
    "collapsed": true,
    "slideshow": {
     "slide_type": "fragment"
    }
   },
   "outputs": [],
   "source": [
    "tf_transformer = TfidfTransformer(use_idf=False).fit(bag_of_words)"
   ]
  },
  {
   "cell_type": "code",
   "execution_count": 9,
   "metadata": {
    "collapsed": false,
    "slideshow": {
     "slide_type": "fragment"
    }
   },
   "outputs": [
    {
     "data": {
      "text/html": [
       "<div style=\"max-height:1000px;max-width:1500px;overflow:auto;\">\n",
       "<table border=\"1\" class=\"dataframe\">\n",
       "  <thead>\n",
       "    <tr style=\"text-align: right;\">\n",
       "      <th></th>\n",
       "      <th>tf</th>\n",
       "    </tr>\n",
       "    <tr>\n",
       "      <th>tag_tf</th>\n",
       "      <th></th>\n",
       "    </tr>\n",
       "  </thead>\n",
       "  <tbody>\n",
       "    <tr>\n",
       "      <th>the</th>\n",
       "      <td> 0.563848</td>\n",
       "    </tr>\n",
       "    <tr>\n",
       "      <th>in</th>\n",
       "      <td> 0.375898</td>\n",
       "    </tr>\n",
       "    <tr>\n",
       "      <th>and</th>\n",
       "      <td> 0.313249</td>\n",
       "    </tr>\n",
       "    <tr>\n",
       "      <th>of</th>\n",
       "      <td> 0.271482</td>\n",
       "    </tr>\n",
       "    <tr>\n",
       "      <th>has</th>\n",
       "      <td> 0.187949</td>\n",
       "    </tr>\n",
       "    <tr>\n",
       "      <th>he</th>\n",
       "      <td> 0.146183</td>\n",
       "    </tr>\n",
       "    <tr>\n",
       "      <th>john</th>\n",
       "      <td> 0.146183</td>\n",
       "    </tr>\n",
       "    <tr>\n",
       "      <th>on</th>\n",
       "      <td> 0.125299</td>\n",
       "    </tr>\n",
       "  </tbody>\n",
       "</table>\n",
       "</div>"
      ],
      "text/plain": [
       "              tf\n",
       "tag_tf          \n",
       "the     0.563848\n",
       "in      0.375898\n",
       "and     0.313249\n",
       "of      0.271482\n",
       "has     0.187949\n",
       "he      0.146183\n",
       "john    0.146183\n",
       "on      0.125299"
      ]
     },
     "execution_count": 9,
     "metadata": {},
     "output_type": "execute_result"
    }
   ],
   "source": [
    "matrix_elton_john_tf=tf_transformer.transform(bag_of_words[entrada_elton_john.index.values])\n",
    "pesos_tf=CB.mostrar_pesos_tags(matrix_elton_john_tf,vectorizacion,descripcion='tf')\n",
    "pesos_tf"
   ]
  },
  {
   "cell_type": "markdown",
   "metadata": {
    "slideshow": {
     "slide_type": "subslide"
    }
   },
   "source": [
    "Fuck, los tags mas importante no describen los articulos\n",
    "- **SOLUCION**: Normalizar y poderar teniendo en cuenta la frecuencia de cada tag en los demas documenos"
   ]
  },
  {
   "cell_type": "code",
   "execution_count": 10,
   "metadata": {
    "collapsed": false,
    "slideshow": {
     "slide_type": "fragment"
    }
   },
   "outputs": [
    {
     "data": {
      "text/html": [
       "<div style=\"max-height:1000px;max-width:1500px;overflow:auto;\">\n",
       "<table border=\"1\" class=\"dataframe\">\n",
       "  <thead>\n",
       "    <tr style=\"text-align: right;\">\n",
       "      <th></th>\n",
       "      <th>tf-idx</th>\n",
       "    </tr>\n",
       "    <tr>\n",
       "      <th>tag_tf-idx</th>\n",
       "      <th></th>\n",
       "    </tr>\n",
       "  </thead>\n",
       "  <tbody>\n",
       "    <tr>\n",
       "      <th>the</th>\n",
       "      <td> 0.245980</td>\n",
       "    </tr>\n",
       "    <tr>\n",
       "      <th>billboard</th>\n",
       "      <td> 0.195711</td>\n",
       "    </tr>\n",
       "    <tr>\n",
       "      <th>john</th>\n",
       "      <td> 0.189990</td>\n",
       "    </tr>\n",
       "    <tr>\n",
       "      <th>elton</th>\n",
       "      <td> 0.186575</td>\n",
       "    </tr>\n",
       "    <tr>\n",
       "      <th>furnish</th>\n",
       "      <td> 0.170638</td>\n",
       "    </tr>\n",
       "    <tr>\n",
       "      <th>in</th>\n",
       "      <td> 0.164139</td>\n",
       "    </tr>\n",
       "    <tr>\n",
       "      <th>and</th>\n",
       "      <td> 0.136804</td>\n",
       "    </tr>\n",
       "    <tr>\n",
       "      <th>songwriters</th>\n",
       "      <td> 0.120128</td>\n",
       "    </tr>\n",
       "  </tbody>\n",
       "</table>\n",
       "</div>"
      ],
      "text/plain": [
       "               tf-idx\n",
       "tag_tf-idx           \n",
       "the          0.245980\n",
       "billboard    0.195711\n",
       "john         0.189990\n",
       "elton        0.186575\n",
       "furnish      0.170638\n",
       "in           0.164139\n",
       "and          0.136804\n",
       "songwriters  0.120128"
      ]
     },
     "execution_count": 10,
     "metadata": {},
     "output_type": "execute_result"
    }
   ],
   "source": [
    "tfidf_transformer = TfidfTransformer(use_idf=True).fit(bag_of_words)\n",
    "matrix_elton_john_tf_idx=tfidf_transformer.transform(bag_of_words[entrada_elton_john.index.values])\n",
    "pesos_tf_idx=CB.mostrar_pesos_tags(matrix_elton_john_tf_idx,vectorizacion,descripcion='tf-idx')\n",
    "pesos_tf_idx"
   ]
  },
  {
   "cell_type": "markdown",
   "metadata": {
    "slideshow": {
     "slide_type": "subslide"
    }
   },
   "source": [
    "Vamos por el buen camino, vamos a ayudar al algoritmo de dos formas:\n",
    "1. Eliminando las palabras mas comunes --> ```stopwords```\n",
    "2. Eliminado los numeros: Fuera de su contexto pierden todo su significado"
   ]
  },
  {
   "cell_type": "code",
   "execution_count": null,
   "metadata": {
    "collapsed": true
   },
   "outputs": [],
   "source": []
  },
  {
   "cell_type": "code",
   "execution_count": 11,
   "metadata": {
    "collapsed": false
   },
   "outputs": [
    {
     "name": "stdout",
     "output_type": "stream",
     "text": [
      "[nltk_data] Downloading package stopwords to /home/jbravo/nltk_data...\n",
      "[nltk_data]   Package stopwords is already up-to-date!\n"
     ]
    },
    {
     "data": {
      "text/plain": [
       "True"
      ]
     },
     "execution_count": 11,
     "metadata": {},
     "output_type": "execute_result"
    }
   ],
   "source": [
    "import nltk\n",
    "nltk.download('stopwords')"
   ]
  },
  {
   "cell_type": "code",
   "execution_count": 12,
   "metadata": {
    "collapsed": false,
    "slideshow": {
     "slide_type": "fragment"
    }
   },
   "outputs": [
    {
     "data": {
      "text/plain": [
       "['i', 'me', 'my', 'myself', 'we', 'our', 'ours', 'ourselves', 'you', 'your']"
      ]
     },
     "execution_count": 12,
     "metadata": {},
     "output_type": "execute_result"
    }
   ],
   "source": [
    "from nltk.corpus import stopwords\n",
    "cachedStopWords = stopwords.words(\"english\")\n",
    "cachedStopWords[:10]"
   ]
  },
  {
   "cell_type": "code",
   "execution_count": 13,
   "metadata": {
    "collapsed": false,
    "slideshow": {
     "slide_type": "fragment"
    }
   },
   "outputs": [],
   "source": [
    "vectorizacion_stop_words     = CountVectorizer(stop_words = cachedStopWords, token_pattern='(?u)\\\\b[a-zA-Z]\\\\w\\\\w+\\\\b')\n",
    "bag_of_words_stop_words      = vectorizacion_stop_words.fit_transform(datos.text)\n",
    "tfidf_transformer_stop_words = TfidfTransformer(use_idf=True).fit(bag_of_words_stop_words)"
   ]
  },
  {
   "cell_type": "code",
   "execution_count": 14,
   "metadata": {
    "collapsed": false,
    "scrolled": true,
    "slideshow": {
     "slide_type": "fragment"
    }
   },
   "outputs": [
    {
     "data": {
      "text/html": [
       "<div style=\"max-height:1000px;max-width:1500px;overflow:auto;\">\n",
       "<table border=\"1\" class=\"dataframe\">\n",
       "  <thead>\n",
       "    <tr style=\"text-align: right;\">\n",
       "      <th></th>\n",
       "      <th>tf_idx_filtrado</th>\n",
       "    </tr>\n",
       "    <tr>\n",
       "      <th>tag_tf_idx_filtrado</th>\n",
       "      <th></th>\n",
       "    </tr>\n",
       "  </thead>\n",
       "  <tbody>\n",
       "    <tr>\n",
       "      <th>billboard</th>\n",
       "      <td> 0.230409</td>\n",
       "    </tr>\n",
       "    <tr>\n",
       "      <th>john</th>\n",
       "      <td> 0.223674</td>\n",
       "    </tr>\n",
       "    <tr>\n",
       "      <th>elton</th>\n",
       "      <td> 0.219654</td>\n",
       "    </tr>\n",
       "    <tr>\n",
       "      <th>furnish</th>\n",
       "      <td> 0.200891</td>\n",
       "    </tr>\n",
       "    <tr>\n",
       "      <th>songwriters</th>\n",
       "      <td> 0.141425</td>\n",
       "    </tr>\n",
       "    <tr>\n",
       "      <th>award</th>\n",
       "      <td> 0.141251</td>\n",
       "    </tr>\n",
       "    <tr>\n",
       "      <th>top</th>\n",
       "      <td> 0.140106</td>\n",
       "    </tr>\n",
       "    <tr>\n",
       "      <th>aids</th>\n",
       "      <td> 0.132142</td>\n",
       "    </tr>\n",
       "  </tbody>\n",
       "</table>\n",
       "</div>"
      ],
      "text/plain": [
       "                     tf_idx_filtrado\n",
       "tag_tf_idx_filtrado                 \n",
       "billboard                   0.230409\n",
       "john                        0.223674\n",
       "elton                       0.219654\n",
       "furnish                     0.200891\n",
       "songwriters                 0.141425\n",
       "award                       0.141251\n",
       "top                         0.140106\n",
       "aids                        0.132142"
      ]
     },
     "execution_count": 14,
     "metadata": {},
     "output_type": "execute_result"
    }
   ],
   "source": [
    "matrix_elton_john_tf_idx_stop_words=tfidf_transformer_stop_words.transform(bag_of_words_stop_words[entrada_elton_john.index.values])\n",
    "pesos_tf_idx_filtrado=CB.mostrar_pesos_tags(matrix_elton_john_tf_idx_stop_words,vectorizacion_stop_words,descripcion='tf_idx_filtrado')\n",
    "pesos_tf_idx_filtrado"
   ]
  },
  {
   "cell_type": "markdown",
   "metadata": {
    "slideshow": {
     "slide_type": "subslide"
    }
   },
   "source": [
    "##### Comparativa de las mejoras realizadas\n",
    "- **tf**: Poderamos y normalizados los tags de cada articulo\n",
    "- **tf-idx**: Poderamos y normalizados los tags de cada articulo teniendo en cuenta la frecuencia de cada tag en los demas articulos\n",
    "- **tf_idx_filtrado**: Eliminamos las palabras mas comunes y los numeros a tf-idx"
   ]
  },
  {
   "cell_type": "code",
   "execution_count": 15,
   "metadata": {
    "collapsed": false,
    "slideshow": {
     "slide_type": "fragment"
    }
   },
   "outputs": [
    {
     "data": {
      "text/html": [
       "<div style=\"max-height:1000px;max-width:1500px;overflow:auto;\">\n",
       "<table border=\"1\" class=\"dataframe\">\n",
       "  <thead>\n",
       "    <tr style=\"text-align: right;\">\n",
       "      <th></th>\n",
       "      <th>tag_tf</th>\n",
       "      <th>tf</th>\n",
       "      <th>tag_tf-idx</th>\n",
       "      <th>tf-idx</th>\n",
       "      <th>tag_tf_idx_filtrado</th>\n",
       "      <th>tf_idx_filtrado</th>\n",
       "    </tr>\n",
       "  </thead>\n",
       "  <tbody>\n",
       "    <tr>\n",
       "      <th>0</th>\n",
       "      <td>  the</td>\n",
       "      <td> 0.563848</td>\n",
       "      <td>         the</td>\n",
       "      <td> 0.245980</td>\n",
       "      <td>   billboard</td>\n",
       "      <td> 0.230409</td>\n",
       "    </tr>\n",
       "    <tr>\n",
       "      <th>1</th>\n",
       "      <td>   in</td>\n",
       "      <td> 0.375898</td>\n",
       "      <td>   billboard</td>\n",
       "      <td> 0.195711</td>\n",
       "      <td>        john</td>\n",
       "      <td> 0.223674</td>\n",
       "    </tr>\n",
       "    <tr>\n",
       "      <th>2</th>\n",
       "      <td>  and</td>\n",
       "      <td> 0.313249</td>\n",
       "      <td>        john</td>\n",
       "      <td> 0.189990</td>\n",
       "      <td>       elton</td>\n",
       "      <td> 0.219654</td>\n",
       "    </tr>\n",
       "    <tr>\n",
       "      <th>3</th>\n",
       "      <td>   of</td>\n",
       "      <td> 0.271482</td>\n",
       "      <td>       elton</td>\n",
       "      <td> 0.186575</td>\n",
       "      <td>     furnish</td>\n",
       "      <td> 0.200891</td>\n",
       "    </tr>\n",
       "    <tr>\n",
       "      <th>4</th>\n",
       "      <td>  has</td>\n",
       "      <td> 0.187949</td>\n",
       "      <td>     furnish</td>\n",
       "      <td> 0.170638</td>\n",
       "      <td> songwriters</td>\n",
       "      <td> 0.141425</td>\n",
       "    </tr>\n",
       "    <tr>\n",
       "      <th>5</th>\n",
       "      <td>   he</td>\n",
       "      <td> 0.146183</td>\n",
       "      <td>          in</td>\n",
       "      <td> 0.164139</td>\n",
       "      <td>       award</td>\n",
       "      <td> 0.141251</td>\n",
       "    </tr>\n",
       "    <tr>\n",
       "      <th>6</th>\n",
       "      <td> john</td>\n",
       "      <td> 0.146183</td>\n",
       "      <td>         and</td>\n",
       "      <td> 0.136804</td>\n",
       "      <td>         top</td>\n",
       "      <td> 0.140106</td>\n",
       "    </tr>\n",
       "    <tr>\n",
       "      <th>7</th>\n",
       "      <td>   on</td>\n",
       "      <td> 0.125299</td>\n",
       "      <td> songwriters</td>\n",
       "      <td> 0.120128</td>\n",
       "      <td>        aids</td>\n",
       "      <td> 0.132142</td>\n",
       "    </tr>\n",
       "  </tbody>\n",
       "</table>\n",
       "</div>"
      ],
      "text/plain": [
       "  tag_tf        tf   tag_tf-idx    tf-idx tag_tf_idx_filtrado  tf_idx_filtrado\n",
       "0    the  0.563848          the  0.245980           billboard         0.230409\n",
       "1     in  0.375898    billboard  0.195711                john         0.223674\n",
       "2    and  0.313249         john  0.189990               elton         0.219654\n",
       "3     of  0.271482        elton  0.186575             furnish         0.200891\n",
       "4    has  0.187949      furnish  0.170638         songwriters         0.141425\n",
       "5     he  0.146183           in  0.164139               award         0.141251\n",
       "6   john  0.146183          and  0.136804                 top         0.140106\n",
       "7     on  0.125299  songwriters  0.120128                aids         0.132142"
      ]
     },
     "execution_count": 15,
     "metadata": {},
     "output_type": "execute_result"
    }
   ],
   "source": [
    "pd.concat([pesos_tf.reset_index(level=0),pesos_tf_idx.reset_index(level=0),pesos_tf_idx_filtrado.reset_index(level=0)],axis=1)"
   ]
  },
  {
   "cell_type": "markdown",
   "metadata": {
    "slideshow": {
     "slide_type": "subslide"
    }
   },
   "source": [
    "##### Forma rapida\n",
    "Todos los pasos anteriores se puede simplificar por medio de un metodo de sklearn que los agrutina"
   ]
  },
  {
   "cell_type": "code",
   "execution_count": 16,
   "metadata": {
    "collapsed": false,
    "slideshow": {
     "slide_type": "fragment"
    }
   },
   "outputs": [
    {
     "data": {
      "text/plain": [
       "TfidfVectorizer(analyzer='word', binary=False, charset=None,\n",
       "        charset_error=None, decode_error='strict',\n",
       "        dtype=<class 'numpy.int64'>, encoding='utf-8', input='content',\n",
       "        lowercase=True, max_df=1.0, max_features=None, min_df=1,\n",
       "        ngram_range=(1, 1), norm='l2', preprocessor=None, smooth_idf=True,\n",
       "        stop_words=['i', 'me', 'my', 'myself', 'we', 'our', 'ours', 'ourselves', 'you', 'your', 'yours', 'yourself', 'yourselves', 'he', 'him', 'his', 'himself', 'she', 'her', 'hers', 'herself', 'it', 'its', 'itself', 'they', 'them', 'their', 'theirs', 'themselves', 'what', 'which', 'who', 'whom', 'this', '...aven', 'isn', 'ma', 'mightn', 'mustn', 'needn', 'shan', 'shouldn', 'wasn', 'weren', 'won', 'wouldn'],\n",
       "        strip_accents=None, sublinear_tf=False,\n",
       "        token_pattern='(?u)\\\\b[a-zA-Z]\\\\w\\\\w+\\\\b', tokenizer=None,\n",
       "        use_idf=True, vocabulary=None)"
      ]
     },
     "execution_count": 16,
     "metadata": {},
     "output_type": "execute_result"
    }
   ],
   "source": [
    "tfidf_vectorizer = TfidfVectorizer( stop_words=cachedStopWords, token_pattern='(?u)\\\\b[a-zA-Z]\\\\w\\\\w+\\\\b')\n",
    "tfidf_vectorizer.fit(datos.text)"
   ]
  },
  {
   "cell_type": "code",
   "execution_count": 17,
   "metadata": {
    "collapsed": false,
    "slideshow": {
     "slide_type": "fragment"
    }
   },
   "outputs": [
    {
     "data": {
      "text/html": [
       "<div style=\"max-height:1000px;max-width:1500px;overflow:auto;\">\n",
       "<table border=\"1\" class=\"dataframe\">\n",
       "  <thead>\n",
       "    <tr style=\"text-align: right;\">\n",
       "      <th></th>\n",
       "      <th>peso</th>\n",
       "    </tr>\n",
       "    <tr>\n",
       "      <th>tag_peso</th>\n",
       "      <th></th>\n",
       "    </tr>\n",
       "  </thead>\n",
       "  <tbody>\n",
       "    <tr>\n",
       "      <th>billboard</th>\n",
       "      <td> 0.230409</td>\n",
       "    </tr>\n",
       "    <tr>\n",
       "      <th>john</th>\n",
       "      <td> 0.223674</td>\n",
       "    </tr>\n",
       "    <tr>\n",
       "      <th>elton</th>\n",
       "      <td> 0.219654</td>\n",
       "    </tr>\n",
       "    <tr>\n",
       "      <th>furnish</th>\n",
       "      <td> 0.200891</td>\n",
       "    </tr>\n",
       "    <tr>\n",
       "      <th>songwriters</th>\n",
       "      <td> 0.141425</td>\n",
       "    </tr>\n",
       "    <tr>\n",
       "      <th>award</th>\n",
       "      <td> 0.141251</td>\n",
       "    </tr>\n",
       "    <tr>\n",
       "      <th>top</th>\n",
       "      <td> 0.140106</td>\n",
       "    </tr>\n",
       "    <tr>\n",
       "      <th>aids</th>\n",
       "      <td> 0.132142</td>\n",
       "    </tr>\n",
       "  </tbody>\n",
       "</table>\n",
       "</div>"
      ],
      "text/plain": [
       "                 peso\n",
       "tag_peso             \n",
       "billboard    0.230409\n",
       "john         0.223674\n",
       "elton        0.219654\n",
       "furnish      0.200891\n",
       "songwriters  0.141425\n",
       "award        0.141251\n",
       "top          0.140106\n",
       "aids         0.132142"
      ]
     },
     "execution_count": 17,
     "metadata": {},
     "output_type": "execute_result"
    }
   ],
   "source": [
    "CB.mostrar_pesos_tags(tfidf_vectorizer.transform(entrada_elton_john.text),tfidf_vectorizer)"
   ]
  },
  {
   "cell_type": "markdown",
   "metadata": {
    "slideshow": {
     "slide_type": "subslide"
    }
   },
   "source": [
    "##### Prediccion\n",
    "Una vez que ya hemos extraidos los tags de los productos, buscamos por similitud los mas parecidos"
   ]
  },
  {
   "cell_type": "code",
   "execution_count": 18,
   "metadata": {
    "collapsed": false,
    "slideshow": {
     "slide_type": "fragment"
    }
   },
   "outputs": [],
   "source": [
    "vecinos            = NearestNeighbors(n_neighbors=5,metric='cosine',algorithm='brute')\n",
    "datos_por_tags     = tfidf_vectorizer.transform(datos.text)"
   ]
  },
  {
   "cell_type": "markdown",
   "metadata": {
    "slideshow": {
     "slide_type": "subslide"
    }
   },
   "source": [
    "#### NOTA: Concepto de metrica\n",
    "Decir similitud, necesariamente tenemos que hablar de metricas, normalmente utilizamos la ```euclidia``` en la vida real pero en sistemas recomendados, lo mas habitual es la llamada ```cosine```"
   ]
  },
  {
   "cell_type": "code",
   "execution_count": 19,
   "metadata": {
    "collapsed": false,
    "slideshow": {
     "slide_type": "fragment"
    }
   },
   "outputs": [
    {
     "name": "stdout",
     "output_type": "stream",
     "text": [
      "Distancia Euclida: [[ 2.82842712]], Distancia cosine: [[  2.22044605e-16]]\n"
     ]
    },
    {
     "data": {
      "image/png": "[encoded data removed]",
      "text/plain": [
       "<matplotlib.figure.Figure at 0x7f8a918a9a20>"
      ]
     },
     "metadata": {},
     "output_type": "display_data"
    }
   ],
   "source": [
    "from sklearn.metrics.pairwise import pairwise_distances\n",
    "\n",
    "a=np.array([2,2])\n",
    "b=np.array([4,4])\n",
    "print (\"Distancia Euclida: {}, Distancia cosine: {}\".format(pairwise_distances(a,b, metric='l2'),pairwise_distances(a,b, metric='cosine')))\n",
    "ax1 = plt.axes(xlim=[0,5],ylim=[0,5])\n",
    "ax1.arrow(0, 0, b[0], b[1], head_width=0.05, fc='k', ec='k')\n",
    "ax1.arrow(0, 0, a[0], a[1], width=0.05,head_width=0.2, fc='k', ec='k')\n",
    "plt.show()"
   ]
  },
  {
   "cell_type": "code",
   "execution_count": 20,
   "metadata": {
    "collapsed": false,
    "slideshow": {
     "slide_type": "subslide"
    }
   },
   "outputs": [
    {
     "data": {
      "text/plain": [
       "NearestNeighbors(algorithm='brute', leaf_size=30, metric='cosine',\n",
       "         metric_params=None, n_neighbors=5, p=2, radius=1.0)"
      ]
     },
     "execution_count": 20,
     "metadata": {},
     "output_type": "execute_result"
    }
   ],
   "source": [
    "vecinos.fit(datos_por_tags)"
   ]
  },
  {
   "cell_type": "markdown",
   "metadata": {
    "slideshow": {
     "slide_type": "fragment"
    }
   },
   "source": [
    "Como se ve a continuacion, nos recomiendan articulos de cantantes, hemos triunfado"
   ]
  },
  {
   "cell_type": "code",
   "execution_count": 21,
   "metadata": {
    "collapsed": false,
    "slideshow": {
     "slide_type": "fragment"
    }
   },
   "outputs": [
    {
     "data": {
      "text/html": [
       "<div style=\"max-height:1000px;max-width:1500px;overflow:auto;\">\n",
       "<table border=\"1\" class=\"dataframe\">\n",
       "  <thead>\n",
       "    <tr style=\"text-align: right;\">\n",
       "      <th></th>\n",
       "      <th>URI</th>\n",
       "      <th>name</th>\n",
       "      <th>text</th>\n",
       "    </tr>\n",
       "  </thead>\n",
       "  <tbody>\n",
       "    <tr>\n",
       "      <th>10   </th>\n",
       "      <td>       &lt;http://dbpedia.org/resource/Elton_John&gt;</td>\n",
       "      <td>       Elton John</td>\n",
       "      <td> sir elton hercules john cbe born reginald kenn...</td>\n",
       "    </tr>\n",
       "    <tr>\n",
       "      <th>5227 </th>\n",
       "      <td> &lt;http://dbpedia.org/resource/Barbra_Streisand&gt;</td>\n",
       "      <td> Barbra Streisand</td>\n",
       "      <td> barbra joan streisand born barbara joan streis...</td>\n",
       "    </tr>\n",
       "    <tr>\n",
       "      <th>134  </th>\n",
       "      <td>       &lt;http://dbpedia.org/resource/Billy_Joel&gt;</td>\n",
       "      <td>       Billy Joel</td>\n",
       "      <td> william martin billy joel born may 9 1949 is a...</td>\n",
       "    </tr>\n",
       "    <tr>\n",
       "      <th>429  </th>\n",
       "      <td>    &lt;http://dbpedia.org/resource/JoJo_(singer)&gt;</td>\n",
       "      <td>    JoJo (singer)</td>\n",
       "      <td> joanna nolle blagden levesque born december 20...</td>\n",
       "    </tr>\n",
       "    <tr>\n",
       "      <th>10441</th>\n",
       "      <td>    &lt;http://dbpedia.org/resource/Pink_(singer)&gt;</td>\n",
       "      <td>    Pink (singer)</td>\n",
       "      <td> alecia beth moore born september 8 1979 better...</td>\n",
       "    </tr>\n",
       "  </tbody>\n",
       "</table>\n",
       "</div>"
      ],
      "text/plain": [
       "                                                  URI              name  \\\n",
       "10           <http://dbpedia.org/resource/Elton_John>        Elton John   \n",
       "5227   <http://dbpedia.org/resource/Barbra_Streisand>  Barbra Streisand   \n",
       "134          <http://dbpedia.org/resource/Billy_Joel>        Billy Joel   \n",
       "429       <http://dbpedia.org/resource/JoJo_(singer)>     JoJo (singer)   \n",
       "10441     <http://dbpedia.org/resource/Pink_(singer)>     Pink (singer)   \n",
       "\n",
       "                                                    text  \n",
       "10     sir elton hercules john cbe born reginald kenn...  \n",
       "5227   barbra joan streisand born barbara joan streis...  \n",
       "134    william martin billy joel born may 9 1949 is a...  \n",
       "429    joanna nolle blagden levesque born december 20...  \n",
       "10441  alecia beth moore born september 8 1979 better...  "
      ]
     },
     "execution_count": 21,
     "metadata": {},
     "output_type": "execute_result"
    }
   ],
   "source": [
    "elton_john_vectorizado  = tfidf_vectorizer.transform(entrada_elton_john.text)\n",
    "distancia,indices       = vecinos.kneighbors(elton_john_vectorizado)\n",
    "datos.iloc[indices[0],:]"
   ]
  },
  {
   "cell_type": "markdown",
   "metadata": {
    "slideshow": {
     "slide_type": "subslide"
    }
   },
   "source": [
    "#### Ejemplo de busqueda\n",
    "Con todo lo anterior, ya estamos preparamos para crear un nuestro sistema de recomendacion basado en contenido\n",
    "\n",
    "Vamos a buscar los actores que han podido ganar algun oscar\n",
    "\n",
    "https://en.wikipedia.org/wiki/Academy_Award_for_Best_Actor"
   ]
  },
  {
   "cell_type": "code",
   "execution_count": 22,
   "metadata": {
    "collapsed": false,
    "slideshow": {
     "slide_type": "subslide"
    }
   },
   "outputs": [],
   "source": [
    "content_based = CB.ContentBased(stop_words=cachedStopWords, token_pattern='(?u)\\\\b[a-zA-Z]\\\\w\\\\w+\\\\b')\n",
    "content_based.fit(datos,columna_descripcion='text')"
   ]
  },
  {
   "cell_type": "markdown",
   "metadata": {
    "slideshow": {
     "slide_type": "fragment"
    }
   },
   "source": [
    "Se puede comprobar que de los 5, 4 de ellos ha ganado por menos un oscar !!!!"
   ]
  },
  {
   "cell_type": "code",
   "execution_count": 23,
   "metadata": {
    "collapsed": false,
    "slideshow": {
     "slide_type": "fragment"
    }
   },
   "outputs": [
    {
     "data": {
      "text/html": [
       "<div style=\"max-height:1000px;max-width:1500px;overflow:auto;\">\n",
       "<table border=\"1\" class=\"dataframe\">\n",
       "  <thead>\n",
       "    <tr style=\"text-align: right;\">\n",
       "      <th></th>\n",
       "      <th>URI</th>\n",
       "      <th>name</th>\n",
       "      <th>text</th>\n",
       "    </tr>\n",
       "  </thead>\n",
       "  <tbody>\n",
       "    <tr>\n",
       "      <th>185  </th>\n",
       "      <td>        &lt;http://dbpedia.org/resource/Al_Pacino&gt;</td>\n",
       "      <td>        Al Pacino</td>\n",
       "      <td> alfredo james al pacino ptino born april 25 19...</td>\n",
       "    </tr>\n",
       "    <tr>\n",
       "      <th>10267</th>\n",
       "      <td>      &lt;http://dbpedia.org/resource/Ethan_Hawke&gt;</td>\n",
       "      <td>      Ethan Hawke</td>\n",
       "      <td> ethan green hawke born november 6 1970 is an a...</td>\n",
       "    </tr>\n",
       "    <tr>\n",
       "      <th>12795</th>\n",
       "      <td>    &lt;http://dbpedia.org/resource/Ralph_Fiennes&gt;</td>\n",
       "      <td>    Ralph Fiennes</td>\n",
       "      <td> ralph nathaniel twisletonwykehamfiennes ref fa...</td>\n",
       "    </tr>\n",
       "    <tr>\n",
       "      <th>3474 </th>\n",
       "      <td> &lt;http://dbpedia.org/resource/Daniel_Day-Lewis&gt;</td>\n",
       "      <td> Daniel Day-Lewis</td>\n",
       "      <td> sir daniel michael blake daylewis kt born 29 a...</td>\n",
       "    </tr>\n",
       "    <tr>\n",
       "      <th>4677 </th>\n",
       "      <td>   &lt;http://dbpedia.org/resource/Michael_Keaton&gt;</td>\n",
       "      <td>   Michael Keaton</td>\n",
       "      <td> michael john douglas born september 5 1951 bet...</td>\n",
       "    </tr>\n",
       "  </tbody>\n",
       "</table>\n",
       "</div>"
      ],
      "text/plain": [
       "                                                  URI              name  \\\n",
       "185           <http://dbpedia.org/resource/Al_Pacino>         Al Pacino   \n",
       "10267       <http://dbpedia.org/resource/Ethan_Hawke>       Ethan Hawke   \n",
       "12795     <http://dbpedia.org/resource/Ralph_Fiennes>     Ralph Fiennes   \n",
       "3474   <http://dbpedia.org/resource/Daniel_Day-Lewis>  Daniel Day-Lewis   \n",
       "4677     <http://dbpedia.org/resource/Michael_Keaton>    Michael Keaton   \n",
       "\n",
       "                                                    text  \n",
       "185    alfredo james al pacino ptino born april 25 19...  \n",
       "10267  ethan green hawke born november 6 1970 is an a...  \n",
       "12795  ralph nathaniel twisletonwykehamfiennes ref fa...  \n",
       "3474   sir daniel michael blake daylewis kt born 29 a...  \n",
       "4677   michael john douglas born september 5 1951 bet...  "
      ]
     },
     "execution_count": 23,
     "metadata": {},
     "output_type": "execute_result"
    }
   ],
   "source": [
    "content_based.predict(['Award Actor Oscar'])"
   ]
  },
  {
   "cell_type": "code",
   "execution_count": 24,
   "metadata": {
    "collapsed": false,
    "slideshow": {
     "slide_type": "fragment"
    }
   },
   "outputs": [
    {
     "data": {
      "text/html": [
       "<div style=\"max-height:1000px;max-width:1500px;overflow:auto;\">\n",
       "<table border=\"1\" class=\"dataframe\">\n",
       "  <thead>\n",
       "    <tr style=\"text-align: right;\">\n",
       "      <th></th>\n",
       "      <th>URI</th>\n",
       "      <th>name</th>\n",
       "      <th>text</th>\n",
       "    </tr>\n",
       "  </thead>\n",
       "  <tbody>\n",
       "    <tr>\n",
       "      <th>185  </th>\n",
       "      <td>        &lt;http://dbpedia.org/resource/Al_Pacino&gt;</td>\n",
       "      <td>        Al Pacino</td>\n",
       "      <td> alfredo james al pacino ptino born april 25 19...</td>\n",
       "    </tr>\n",
       "    <tr>\n",
       "      <th>12795</th>\n",
       "      <td>    &lt;http://dbpedia.org/resource/Ralph_Fiennes&gt;</td>\n",
       "      <td>    Ralph Fiennes</td>\n",
       "      <td> ralph nathaniel twisletonwykehamfiennes ref fa...</td>\n",
       "    </tr>\n",
       "    <tr>\n",
       "      <th>10267</th>\n",
       "      <td>      &lt;http://dbpedia.org/resource/Ethan_Hawke&gt;</td>\n",
       "      <td>      Ethan Hawke</td>\n",
       "      <td> ethan green hawke born november 6 1970 is an a...</td>\n",
       "    </tr>\n",
       "    <tr>\n",
       "      <th>3474 </th>\n",
       "      <td> &lt;http://dbpedia.org/resource/Daniel_Day-Lewis&gt;</td>\n",
       "      <td> Daniel Day-Lewis</td>\n",
       "      <td> sir daniel michael blake daylewis kt born 29 a...</td>\n",
       "    </tr>\n",
       "    <tr>\n",
       "      <th>460  </th>\n",
       "      <td>     &lt;http://dbpedia.org/resource/Jeff_Daniels&gt;</td>\n",
       "      <td>     Jeff Daniels</td>\n",
       "      <td> jeffrey warren jeff daniels born february 19 1...</td>\n",
       "    </tr>\n",
       "  </tbody>\n",
       "</table>\n",
       "</div>"
      ],
      "text/plain": [
       "                                                  URI              name  \\\n",
       "185           <http://dbpedia.org/resource/Al_Pacino>         Al Pacino   \n",
       "12795     <http://dbpedia.org/resource/Ralph_Fiennes>     Ralph Fiennes   \n",
       "10267       <http://dbpedia.org/resource/Ethan_Hawke>       Ethan Hawke   \n",
       "3474   <http://dbpedia.org/resource/Daniel_Day-Lewis>  Daniel Day-Lewis   \n",
       "460        <http://dbpedia.org/resource/Jeff_Daniels>      Jeff Daniels   \n",
       "\n",
       "                                                    text  \n",
       "185    alfredo james al pacino ptino born april 25 19...  \n",
       "12795  ralph nathaniel twisletonwykehamfiennes ref fa...  \n",
       "10267  ethan green hawke born november 6 1970 is an a...  \n",
       "3474   sir daniel michael blake daylewis kt born 29 a...  \n",
       "460    jeffrey warren jeff daniels born february 19 1...  "
      ]
     },
     "execution_count": 24,
     "metadata": {},
     "output_type": "execute_result"
    }
   ],
   "source": [
    "content_based.predict(datos.query('name == \"Al Pacino\"').text)"
   ]
  },
  {
   "cell_type": "markdown",
   "metadata": {
    "slideshow": {
     "slide_type": "slide"
    }
   },
   "source": [
    "<a id=\"seccion3\"></a>\n",
    "\n",
    "### Filtro Colaborativo (Collaborative Filtering)"
   ]
  },
  {
   "cell_type": "markdown",
   "metadata": {
    "slideshow": {
     "slide_type": "subslide"
    }
   },
   "source": [
    "Hay distintos modelos:\n",
    "1. **Memory-Based**: Son mas bien sistemas heristicos, son faciles de impletar y producen predicciones razonables. Tiene un gran problema: No son escalables.\n",
    "<img src='imagenes/collaborative_filter.png'>\n",
    "2. **Model-Based**: Introducimos Machine Learning a los filtros colaborativos para que sean escalabres: calcular a partir de nuestra matriz de ranking dos matrices de menor rango que nos prediga el raking de los productos que no tienen  \n",
    "<img src='imagenes/factorization.jpg'>\n",
    "<h6 align=\"center\">Imagen de http://www.jeremymcohen.net/posts/taste</h6> "
   ]
  },
  {
   "cell_type": "markdown",
   "metadata": {
    "slideshow": {
     "slide_type": "subslide"
    }
   },
   "source": [
    "#### Model-Based\n",
    "Los algoritmos que mas se utilizan son:\n",
    "1. **Singular value decomposition (SVD)**\n",
    "2. **Stochastic gradient descent (SGD)**: Sencillo pero muy poderoso\n",
    "3. **Altering least squares (ALS)**: utilizaremos este metodo al estar optimizado a traves de spark <a href='https://www.quora.com/Why-are-there-two-ML-implementations-in-Spark-ML-and-MLlib-and-what-are-their-different-features'>(Utilizaremos el paquete de Machine Learning ml y no mllib)</a>"
   ]
  },
  {
   "cell_type": "markdown",
   "metadata": {
    "slideshow": {
     "slide_type": "subslide"
    }
   },
   "source": [
    "### Ejemplo2: Recomendacion de articulos por medio ALS basados en el sentimiento de cada usuario\n",
    "A partir de la recomendacion de las 10 peliculas mas vistas por nosotros, el sistema nos recomendará otras"
   ]
  },
  {
   "cell_type": "code",
   "execution_count": 25,
   "metadata": {
    "collapsed": false,
    "slideshow": {
     "slide_type": "subslide"
    }
   },
   "outputs": [],
   "source": [
    "from pyspark import SparkConf, SparkContext\n",
    "conf = (SparkConf()\n",
    "         .setMaster(\"local[*]\")\n",
    "         .setAppName(\"Myapp\")\n",
    "         .set(\"spark.executor.memory\", \"1g\"))\n",
    "sc = SparkContext(conf = conf)\n",
    "sc.setLogLevel(\"ERROR\")\n",
    "\n"
   ]
  },
  {
   "cell_type": "code",
   "execution_count": 26,
   "metadata": {
    "collapsed": false
   },
   "outputs": [],
   "source": [
    "from pyspark.ml.tuning import CrossValidator, ParamGridBuilder\n",
    "from pyspark.ml.recommendation import ALS\n",
    "from math import sqrt\n",
    "from operator import add\n",
    "from sklearn.metrics import mean_squared_error\n",
    "import pandas as pd\n",
    "import numpy as np\n",
    "\n",
    "import CollaborativeFiltering as CF\n",
    "\n",
    "USERID='user_id'\n",
    "PRODUCTID='product_id'\n",
    "PREDICCION ='prediccion'\n",
    "NOMBRE_PELICULA='nombre_pelicula'\n",
    "TARGET     ='rating'\n",
    "    \n",
    "def error_train_test(modelo,train,test,prediccion=PREDICCION,target=TARGET):\n",
    "    return ( CF.rmse(modelo.transform(train),prediccion,target),\n",
    "        CF.rmse(modelo.transform(test),prediccion,target))"
   ]
  },
  {
   "cell_type": "code",
   "execution_count": 27,
   "metadata": {
    "collapsed": false,
    "slideshow": {
     "slide_type": "fragment"
    }
   },
   "outputs": [],
   "source": [
    "historico_valoraciones=pd.read_csv(RUTA_BD+\"/ratings.dat\",sep='::',names = [USERID,PRODUCTID,TARGET],usecols=[0,1,2],engine='python')\n",
    "relacion_peliculas=pd.read_csv(RUTA_BD+\"/movies.dat\",sep='::',names = [PRODUCTID,NOMBRE_PELICULA],usecols=[0,1],engine='python')"
   ]
  },
  {
   "cell_type": "markdown",
   "metadata": {
    "slideshow": {
     "slide_type": "subslide"
    }
   },
   "source": [
    "#### Generamos nuestas valoraciones\n",
    "A partir de las peliculas mas vistras"
   ]
  },
  {
   "cell_type": "code",
   "execution_count": 29,
   "metadata": {
    "collapsed": false,
    "slideshow": {
     "slide_type": "fragment"
    }
   },
   "outputs": [
    {
     "data": {
      "text/plain": [
       "array([2858, 1196,  260, 1210,  480, 2571, 2028,  589, 1580,  593])"
      ]
     },
     "execution_count": 29,
     "metadata": {},
     "output_type": "execute_result"
    }
   ],
   "source": [
    "id_peliculas_mas_vistas=historico_valoraciones.groupby(by=PRODUCTID).count().sort(USERID,ascending=False).head(10).index.values\n",
    "id_peliculas_mas_vistas"
   ]
  },
  {
   "cell_type": "code",
   "execution_count": 30,
   "metadata": {
    "collapsed": false,
    "slideshow": {
     "slide_type": "fragment"
    }
   },
   "outputs": [
    {
     "data": {
      "text/html": [
       "<div style=\"max-height:1000px;max-width:1500px;overflow:auto;\">\n",
       "<table border=\"1\" class=\"dataframe\">\n",
       "  <thead>\n",
       "    <tr style=\"text-align: right;\">\n",
       "      <th></th>\n",
       "      <th>product_id</th>\n",
       "      <th>nombre_pelicula</th>\n",
       "    </tr>\n",
       "  </thead>\n",
       "  <tbody>\n",
       "    <tr>\n",
       "      <th>257 </th>\n",
       "      <td>  260</td>\n",
       "      <td>         Star Wars: Episode IV - A New Hope (1977)</td>\n",
       "    </tr>\n",
       "    <tr>\n",
       "      <th>476 </th>\n",
       "      <td>  480</td>\n",
       "      <td>                              Jurassic Park (1993)</td>\n",
       "    </tr>\n",
       "    <tr>\n",
       "      <th>585 </th>\n",
       "      <td>  589</td>\n",
       "      <td>                 Terminator 2: Judgment Day (1991)</td>\n",
       "    </tr>\n",
       "    <tr>\n",
       "      <th>589 </th>\n",
       "      <td>  593</td>\n",
       "      <td>                  Silence of the Lambs, The (1991)</td>\n",
       "    </tr>\n",
       "    <tr>\n",
       "      <th>1178</th>\n",
       "      <td> 1196</td>\n",
       "      <td> Star Wars: Episode V - The Empire Strikes Back...</td>\n",
       "    </tr>\n",
       "    <tr>\n",
       "      <th>1192</th>\n",
       "      <td> 1210</td>\n",
       "      <td> Star Wars: Episode VI - Return of the Jedi (1983)</td>\n",
       "    </tr>\n",
       "    <tr>\n",
       "      <th>1539</th>\n",
       "      <td> 1580</td>\n",
       "      <td>                               Men in Black (1997)</td>\n",
       "    </tr>\n",
       "    <tr>\n",
       "      <th>1959</th>\n",
       "      <td> 2028</td>\n",
       "      <td>                        Saving Private Ryan (1998)</td>\n",
       "    </tr>\n",
       "    <tr>\n",
       "      <th>2502</th>\n",
       "      <td> 2571</td>\n",
       "      <td>                                Matrix, The (1999)</td>\n",
       "    </tr>\n",
       "    <tr>\n",
       "      <th>2789</th>\n",
       "      <td> 2858</td>\n",
       "      <td>                            American Beauty (1999)</td>\n",
       "    </tr>\n",
       "  </tbody>\n",
       "</table>\n",
       "</div>"
      ],
      "text/plain": [
       "      product_id                                    nombre_pelicula\n",
       "257          260          Star Wars: Episode IV - A New Hope (1977)\n",
       "476          480                               Jurassic Park (1993)\n",
       "585          589                  Terminator 2: Judgment Day (1991)\n",
       "589          593                   Silence of the Lambs, The (1991)\n",
       "1178        1196  Star Wars: Episode V - The Empire Strikes Back...\n",
       "1192        1210  Star Wars: Episode VI - Return of the Jedi (1983)\n",
       "1539        1580                                Men in Black (1997)\n",
       "1959        2028                         Saving Private Ryan (1998)\n",
       "2502        2571                                 Matrix, The (1999)\n",
       "2789        2858                             American Beauty (1999)"
      ]
     },
     "execution_count": 30,
     "metadata": {},
     "output_type": "execute_result"
    }
   ],
   "source": [
    "peliculas_mas_vistas = relacion_peliculas[relacion_peliculas[PRODUCTID].isin(id_peliculas_mas_vistas)]\n",
    "peliculas_mas_vistas"
   ]
  },
  {
   "cell_type": "code",
   "execution_count": 34,
   "metadata": {
    "collapsed": false,
    "slideshow": {
     "slide_type": "subslide"
    }
   },
   "outputs": [
    {
     "name": "stdout",
     "output_type": "stream",
     "text": [
      "Puntuacion de 1 al 5 de Star Wars: Episode IV - A New Hope (1977): 5\n",
      "Puntuacion de 1 al 5 de Jurassic Park (1993): 4\n",
      "Puntuacion de 1 al 5 de Terminator 2: Judgment Day (1991): 3\n",
      "Puntuacion de 1 al 5 de Silence of the Lambs, The (1991): 3\n",
      "Puntuacion de 1 al 5 de Star Wars: Episode V - The Empire Strikes Back (1980): 5\n",
      "Puntuacion de 1 al 5 de Star Wars: Episode VI - Return of the Jedi (1983): 5\n",
      "Puntuacion de 1 al 5 de Men in Black (1997): 2\n",
      "Puntuacion de 1 al 5 de Saving Private Ryan (1998): 2\n",
      "Puntuacion de 1 al 5 de Matrix, The (1999): 2\n",
      "Puntuacion de 1 al 5 de American Beauty (1999): 1\n"
     ]
    }
   ],
   "source": [
    "ranking_mio = []\n",
    "for fila in peliculas_mas_vistas.itertuples():\n",
    "    puntuacion = input(\"Puntuacion de 1 al 5 de {}: \".format(fila[2]))\n",
    "    ranking_mio.append([0,fila[1],float(puntuacion)])\n",
    "mis_valoraciones = pd.DataFrame(data=ranking_mio,columns=[USERID,PRODUCTID,TARGET])\n",
    "mis_valoraciones[TARGET] = mis_valoraciones[TARGET].astype(np.float64,copy=False)\n"
   ]
  },
  {
   "cell_type": "markdown",
   "metadata": {
    "slideshow": {
     "slide_type": "subslide"
    }
   },
   "source": [
    "#### BUENAS PRACTICAS: Validacion Cruzada\n"
   ]
  },
  {
   "cell_type": "markdown",
   "metadata": {
    "collapsed": false,
    "slideshow": {
     "slide_type": "fragment"
    }
   },
   "source": [
    "```python\n",
    "lista_error_trainig=[]\n",
    "lista_error_tests=[]\n",
    "max_iteraciones=[1,3,12,15,18,24]\n",
    "for max_ite in max_iteraciones:\n",
    "    algoritmo = ALS(regParam=0.001,rank=4,maxIter=max_ite, userCol=USERID, itemCol=PRODUCTID, ratingCol=TARGET)\n",
    "    modelo=algoritmo.fit(train_data)\n",
    "    (error_trainig,error_tests)=error_train_test(modelo,train_data,test_data,algoritmo.getPredictionCol(),algoritmo.getRatingCol())\n",
    "    lista_error_trainig.append(error_trainig)\n",
    "    lista_error_tests.append(error_tests)\n",
    "    print (\"MaxIteraciones: {}, ErrorValidacion: {}, ErrorTest: {}\".format(max_ite,error_trainig,error_tests))  \n",
    "    \n",
    "MaxIteraciones: 1, ErrorValidacion: 2.944017127892633, ErrorTest: 3.3589322628528784\n",
    "MaxIteraciones: 3, ErrorValidacion: 0.841464796797687, ErrorTest: 0.9710850706836164\n",
    "MaxIteraciones: 12, ErrorValidacion: 0.798266313670666, ErrorTest: 0.9474099321913148\n",
    "MaxIteraciones: 15, ErrorValidacion: 0.7970887322939875, ErrorTest: 0.9487053356238591\n",
    "MaxIteraciones: 18, ErrorValidacion: 0.7962955748882709, ErrorTest: 0.9532481382416105\n",
    "MaxIteraciones: 24, ErrorValidacion: 0.7954616942763565, ErrorTest: 0.958973712003286\n",
    "```\n",
    "\n",
    "<img src='imagenes/curva_de_validacion.png'>\n",
    "  "
   ]
  },
  {
   "cell_type": "markdown",
   "metadata": {
    "slideshow": {
     "slide_type": "subslide"
    }
   },
   "source": [
    "Para cada tupla de parametros se itera tantas veces como hemos expecificado y se guarda la media de errores generados<br/>\n",
    "Eligemos el modelo con menor error medio\n",
    "<img src='imagenes/validacion_cruzada.jpg'>"
   ]
  },
  {
   "cell_type": "markdown",
   "metadata": {
    "slideshow": {
     "slide_type": "subslide"
    }
   },
   "source": [
    "#### Conjunto de entrenamiento y testeo\n",
    "\n",
    "Vamos a crear dos conjuntos para poder afinar los hiperparametros del algoritmo ALS:\n",
    "- **Entrenamiento:** Con este conjunto de datos se validan los hiperparametros del modelo\n",
    "- **Tests:** Una vez que nuestro modelo está entrenado con unos hiperparaemtros adecuados, se testea con otro conjunto el desempeño del modelo"
   ]
  },
  {
   "cell_type": "code",
   "execution_count": 40,
   "metadata": {
    "collapsed": false,
    "slideshow": {
     "slide_type": "subslide"
    }
   },
   "outputs": [],
   "source": [
    "from sklearn.cross_validation import train_test_split  \n",
    "X_historico, X_test = train_test_split(\n",
    "    historico_valoraciones, test_size=0.3, random_state=0)\n",
    "\n",
    "X_historico = pd.DataFrame(X_historico,columns=[USERID,PRODUCTID,TARGET])\n",
    "X_test = pd.DataFrame(X_test,columns=[USERID,PRODUCTID,TARGET])\n",
    "\n",
    "# Añado mis recomendaciones\n",
    "X_train = pd.concat([mis_valoraciones,X_historico])\n",
    "\n",
    "from pyspark.sql import SQLContext\n",
    "sqlContext = SQLContext(sc)\n",
    "\n",
    "train_data = sqlContext.createDataFrame(data=X_train).cache()\n",
    "test_data = sqlContext.createDataFrame(data=X_test).cache()"
   ]
  },
  {
   "cell_type": "code",
   "execution_count": 41,
   "metadata": {
    "collapsed": false,
    "slideshow": {
     "slide_type": "fragment"
    }
   },
   "outputs": [
    {
     "name": "stdout",
     "output_type": "stream",
     "text": [
      "Error: 0.9745671792235464\n",
      "Error: 0.9612983061889218\n",
      "Error: 1.0614425667532184\n",
      "Error: 0.9713263504898813\n",
      "Error: 0.9605531666217593\n",
      "Error: 1.061341873529003\n"
     ]
    }
   ],
   "source": [
    "algoritmo = ALS(rank=5,userCol=USERID, itemCol=PRODUCTID, ratingCol=TARGET)\n",
    "grid_parametros = ParamGridBuilder().addGrid(algoritmo.regParam, [0.1,0.25,0.5]).build()\n",
    "evaluador = CF.EvaluadorRMSE(predictionCol=algoritmo.getPredictionCol(), targetCol=algoritmo.getRatingCol())\n",
    "\n",
    "cv = CrossValidator(estimator=algoritmo, estimatorParamMaps=grid_parametros, evaluator=evaluador, numFolds=2)\n",
    "cv_model = cv.fit(train_data)"
   ]
  },
  {
   "cell_type": "code",
   "execution_count": 42,
   "metadata": {
    "collapsed": false,
    "slideshow": {
     "slide_type": "fragment"
    }
   },
   "outputs": [
    {
     "name": "stdout",
     "output_type": "stream",
     "text": [
      "ErrorValidacion: 0.8912223223761592, ErrorTest: 0.9408325733513575\n"
     ]
    }
   ],
   "source": [
    "(error_training_als,error_test_als)=error_train_test(cv_model,train_data,test_data,algoritmo.getPredictionCol(),algoritmo.getRatingCol())\n",
    "print (\"ErrorValidacion: {}, ErrorTest: {}\".format(error_training_als,error_test_als))"
   ]
  },
  {
   "cell_type": "markdown",
   "metadata": {
    "slideshow": {
     "slide_type": "subslide"
    }
   },
   "source": [
    "#### Prediccion\n",
    "Hemos creado un envoltorio al modelo ALS para ayudarnos a generar predicciones a partir de las matrices con los factores ocultos\n"
   ]
  },
  {
   "cell_type": "markdown",
   "metadata": {
    "slideshow": {
     "slide_type": "subslide"
    }
   },
   "source": [
    "Rating de nuestras valoraciones"
   ]
  },
  {
   "cell_type": "code",
   "execution_count": 43,
   "metadata": {
    "collapsed": true
   },
   "outputs": [],
   "source": [
    "mb_als=CF.ModelBasedALS(cv_model.bestModel)"
   ]
  },
  {
   "cell_type": "code",
   "execution_count": 44,
   "metadata": {
    "collapsed": false,
    "slideshow": {
     "slide_type": "fragment"
    }
   },
   "outputs": [
    {
     "name": "stderr",
     "output_type": "stream",
     "text": [
      "./scripts/SistemasRecomendacion/CollaborativeFiltering.py:62: SettingWithCopyWarning: \n",
      "A value is trying to be set on a copy of a slice from a DataFrame.\n",
      "Try using .loc[row_indexer,col_indexer] = value instead\n",
      "\n",
      "See the the caveats in the documentation: http://pandas.pydata.org/pandas-docs/stable/indexing.html#indexing-view-versus-copy\n",
      "  user_item[tag_prediccion]=estimaciones\n"
     ]
    },
    {
     "data": {
      "text/html": [
       "<div style=\"max-height:1000px;max-width:1500px;overflow:auto;\">\n",
       "<table border=\"1\" class=\"dataframe\">\n",
       "  <thead>\n",
       "    <tr style=\"text-align: right;\">\n",
       "      <th></th>\n",
       "      <th>user_id</th>\n",
       "      <th>product_id</th>\n",
       "      <th>rating</th>\n",
       "      <th>prediccion</th>\n",
       "    </tr>\n",
       "  </thead>\n",
       "  <tbody>\n",
       "    <tr>\n",
       "      <th>0</th>\n",
       "      <td> 0</td>\n",
       "      <td>  260</td>\n",
       "      <td> 5</td>\n",
       "      <td> 3.206360</td>\n",
       "    </tr>\n",
       "    <tr>\n",
       "      <th>1</th>\n",
       "      <td> 0</td>\n",
       "      <td>  480</td>\n",
       "      <td> 4</td>\n",
       "      <td> 2.844838</td>\n",
       "    </tr>\n",
       "    <tr>\n",
       "      <th>2</th>\n",
       "      <td> 0</td>\n",
       "      <td>  589</td>\n",
       "      <td> 3</td>\n",
       "      <td> 2.977794</td>\n",
       "    </tr>\n",
       "    <tr>\n",
       "      <th>3</th>\n",
       "      <td> 0</td>\n",
       "      <td>  593</td>\n",
       "      <td> 3</td>\n",
       "      <td> 3.080435</td>\n",
       "    </tr>\n",
       "    <tr>\n",
       "      <th>4</th>\n",
       "      <td> 0</td>\n",
       "      <td> 1196</td>\n",
       "      <td> 5</td>\n",
       "      <td> 3.113625</td>\n",
       "    </tr>\n",
       "    <tr>\n",
       "      <th>5</th>\n",
       "      <td> 0</td>\n",
       "      <td> 1210</td>\n",
       "      <td> 5</td>\n",
       "      <td> 2.956294</td>\n",
       "    </tr>\n",
       "    <tr>\n",
       "      <th>6</th>\n",
       "      <td> 0</td>\n",
       "      <td> 1580</td>\n",
       "      <td> 2</td>\n",
       "      <td> 2.759693</td>\n",
       "    </tr>\n",
       "    <tr>\n",
       "      <th>7</th>\n",
       "      <td> 0</td>\n",
       "      <td> 2028</td>\n",
       "      <td> 2</td>\n",
       "      <td> 3.202837</td>\n",
       "    </tr>\n",
       "    <tr>\n",
       "      <th>8</th>\n",
       "      <td> 0</td>\n",
       "      <td> 2571</td>\n",
       "      <td> 2</td>\n",
       "      <td> 3.176281</td>\n",
       "    </tr>\n",
       "    <tr>\n",
       "      <th>9</th>\n",
       "      <td> 0</td>\n",
       "      <td> 2858</td>\n",
       "      <td> 1</td>\n",
       "      <td> 2.874510</td>\n",
       "    </tr>\n",
       "  </tbody>\n",
       "</table>\n",
       "</div>"
      ],
      "text/plain": [
       "   user_id  product_id  rating  prediccion\n",
       "0        0         260       5    3.206360\n",
       "1        0         480       4    2.844838\n",
       "2        0         589       3    2.977794\n",
       "3        0         593       3    3.080435\n",
       "4        0        1196       5    3.113625\n",
       "5        0        1210       5    2.956294\n",
       "6        0        1580       2    2.759693\n",
       "7        0        2028       2    3.202837\n",
       "8        0        2571       2    3.176281\n",
       "9        0        2858       1    2.874510"
      ]
     },
     "execution_count": 44,
     "metadata": {},
     "output_type": "execute_result"
    }
   ],
   "source": [
    "pd.merge(mis_valoraciones,mb_als.predictAll(mis_valoraciones.iloc[:,[0,1]]))"
   ]
  },
  {
   "cell_type": "markdown",
   "metadata": {
    "slideshow": {
     "slide_type": "subslide"
    }
   },
   "source": [
    "Películas que nos recomiendan"
   ]
  },
  {
   "cell_type": "code",
   "execution_count": 68,
   "metadata": {
    "collapsed": false,
    "slideshow": {
     "slide_type": "fragment"
    }
   },
   "outputs": [
    {
     "data": {
      "text/html": [
       "<div style=\"max-height:1000px;max-width:1500px;overflow:auto;\">\n",
       "<table border=\"1\" class=\"dataframe\">\n",
       "  <thead>\n",
       "    <tr style=\"text-align: right;\">\n",
       "      <th></th>\n",
       "      <th>product_id</th>\n",
       "      <th>nombre_pelicula</th>\n",
       "      <th>0</th>\n",
       "    </tr>\n",
       "  </thead>\n",
       "  <tbody>\n",
       "    <tr>\n",
       "      <th>3161</th>\n",
       "      <td> 3230</td>\n",
       "      <td>                 Odessa File, The (1974)</td>\n",
       "      <td> 3.975904</td>\n",
       "    </tr>\n",
       "    <tr>\n",
       "      <th>394 </th>\n",
       "      <td>  398</td>\n",
       "      <td>                  Frank and Ollie (1995)</td>\n",
       "      <td> 3.799126</td>\n",
       "    </tr>\n",
       "    <tr>\n",
       "      <th>3612</th>\n",
       "      <td> 3681</td>\n",
       "      <td>           For a Few Dollars More (1965)</td>\n",
       "      <td> 3.659868</td>\n",
       "    </tr>\n",
       "    <tr>\n",
       "      <th>3371</th>\n",
       "      <td> 3440</td>\n",
       "      <td> Teenage Mutant Ninja Turtles III (1993)</td>\n",
       "      <td> 3.560290</td>\n",
       "    </tr>\n",
       "    <tr>\n",
       "      <th>1423</th>\n",
       "      <td> 1448</td>\n",
       "      <td>             Fire on the Mountain (1996)</td>\n",
       "      <td> 3.545994</td>\n",
       "    </tr>\n",
       "    <tr>\n",
       "      <th>3292</th>\n",
       "      <td> 3361</td>\n",
       "      <td>                      Bull Durham (1988)</td>\n",
       "      <td> 3.518804</td>\n",
       "    </tr>\n",
       "    <tr>\n",
       "      <th>3284</th>\n",
       "      <td> 3353</td>\n",
       "      <td>              Closer You Get, The (2000)</td>\n",
       "      <td> 3.485783</td>\n",
       "    </tr>\n",
       "    <tr>\n",
       "      <th>3776</th>\n",
       "      <td> 3846</td>\n",
       "      <td>                       Easy Money (1983)</td>\n",
       "      <td> 3.475203</td>\n",
       "    </tr>\n",
       "    <tr>\n",
       "      <th>116 </th>\n",
       "      <td>  118</td>\n",
       "      <td>                     If Lucy Fell (1996)</td>\n",
       "      <td> 3.447610</td>\n",
       "    </tr>\n",
       "    <tr>\n",
       "      <th>3456</th>\n",
       "      <td> 3525</td>\n",
       "      <td>                   Bachelor Party (1984)</td>\n",
       "      <td> 3.427994</td>\n",
       "    </tr>\n",
       "  </tbody>\n",
       "</table>\n",
       "</div>"
      ],
      "text/plain": [
       "      product_id                          nombre_pelicula         0\n",
       "3161        3230                  Odessa File, The (1974)  3.975904\n",
       "394          398                   Frank and Ollie (1995)  3.799126\n",
       "3612        3681            For a Few Dollars More (1965)  3.659868\n",
       "3371        3440  Teenage Mutant Ninja Turtles III (1993)  3.560290\n",
       "1423        1448              Fire on the Mountain (1996)  3.545994\n",
       "3292        3361                       Bull Durham (1988)  3.518804\n",
       "3284        3353               Closer You Get, The (2000)  3.485783\n",
       "3776        3846                        Easy Money (1983)  3.475203\n",
       "116          118                      If Lucy Fell (1996)  3.447610\n",
       "3456        3525                    Bachelor Party (1984)  3.427994"
      ]
     },
     "execution_count": 68,
     "metadata": {},
     "output_type": "execute_result"
    }
   ],
   "source": [
    "relacion_peliculas.join(mb_als.recommendProducts(0,10),how='right')"
   ]
  },
  {
   "cell_type": "markdown",
   "metadata": {
    "slideshow": {
     "slide_type": "subslide"
    }
   },
   "source": [
    "\n",
    "#### Hora de la verdad\n",
    "Vamos a comparar el sistema con un modelo base definido como la media de las valoraciones en el conjunto entrenado"
   ]
  },
  {
   "cell_type": "code",
   "execution_count": 69,
   "metadata": {
    "collapsed": false,
    "scrolled": true,
    "slideshow": {
     "slide_type": "fragment"
    }
   },
   "outputs": [],
   "source": [
    "valoracion_media = X_train[TARGET].mean()\n",
    "prediccion = (X_test[TARGET]-valoracion_media)**2\n",
    "rmse_modelo_base = sqrt(prediccion.sum()/prediccion.count())"
   ]
  },
  {
   "cell_type": "code",
   "execution_count": 70,
   "metadata": {
    "collapsed": false,
    "slideshow": {
     "slide_type": "fragment"
    }
   },
   "outputs": [
    {
     "name": "stdout",
     "output_type": "stream",
     "text": [
      "la mejora del modelo ALS respecto al modelo base es: 14.89%\n"
     ]
    }
   ],
   "source": [
    "print (\"la mejora del modelo ALS respecto al modelo base es: {0:.2f}%\".format((rmse_modelo_base-error_test_als)/rmse_modelo_base*100))"
   ]
  },
  {
   "cell_type": "code",
   "execution_count": null,
   "metadata": {
    "collapsed": true
   },
   "outputs": [],
   "source": []
  },
  {
   "cell_type": "code",
   "execution_count": null,
   "metadata": {
    "collapsed": true
   },
   "outputs": [],
   "source": []
  }
 ],
 "metadata": {
  "kernelspec": {
   "display_name": "Python 3",
   "language": "python",
   "name": "python3"
  },
  "language_info": {
   "codemirror_mode": {
    "name": "ipython",
    "version": 3
   },
   "file_extension": ".py",
   "mimetype": "text/x-python",
   "name": "python",
   "nbconvert_exporter": "python",
   "pygments_lexer": "ipython3",
   "version": "3.4.1"
  }
 },
 "nbformat": 4,
 "nbformat_minor": 0
}
